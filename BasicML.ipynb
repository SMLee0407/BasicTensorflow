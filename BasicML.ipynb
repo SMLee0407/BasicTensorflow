{
 "cells": [
  {
   "cell_type": "code",
   "execution_count": 14,
   "id": "90b578aa",
   "metadata": {},
   "outputs": [
    {
     "name": "stdout",
     "output_type": "stream",
     "text": [
      "    0l    2.4520l    0.3760l 45.660004\n",
      "   10l    1.1036l    0.0034l  0.206336\n",
      "   20l    1.0128l   -0.0209l  0.001026\n",
      "   30l    1.0065l   -0.0218l  0.000093\n",
      "   40l    1.0059l   -0.0212l  0.000083\n",
      "   50l    1.0057l   -0.0205l  0.000077\n",
      "   60l    1.0055l   -0.0198l  0.000072\n",
      "   70l    1.0053l   -0.0192l  0.000067\n",
      "   80l    1.0051l   -0.0185l  0.000063\n",
      "   90l    1.0050l   -0.0179l  0.000059\n",
      "  100l    1.0048l   -0.0173l  0.000055\n"
     ]
    }
   ],
   "source": [
    "import tensorflow as tf #linear regresstion (continuous)\n",
    "x_data = [1,2,3,4,5]\n",
    "y_data = [1,2,3,4,5]\n",
    "W = tf.Variable(2.9)\n",
    "b = tf.Variable(0.5)\n",
    "learning_rate = 0.01\n",
    "for i in range(100+1):\n",
    "    with tf.GradientTape() as tape: #tape에 내용 전달\n",
    "        hypothesis = W*x_data + b\n",
    "        cost = tf.reduce_mean(tf.square(hypothesis - y_data)) #MSE\n",
    "    W_grad, b_grad = tape.gradient(cost, [W, b]) #gradient 계산\n",
    "    W.assign_sub(learning_rate*W_grad) #빼고 할당\n",
    "    b.assign_sub(learning_rate*b_grad)\n",
    "    if i%10 == 0:\n",
    "        print(\"{:5}l{:10.4f}l{:10.4f}l{:10.6f}\".format(i, W.numpy(), b.numpy(), cost))\n"
   ]
  },
  {
   "cell_type": "code",
   "execution_count": 18,
   "id": "642f1bb8",
   "metadata": {},
   "outputs": [
    {
     "name": "stdout",
     "output_type": "stream",
     "text": [
      "tf.Tensor(5.00667, shape=(), dtype=float32)\n",
      "tf.Tensor(2.4946702, shape=(), dtype=float32)\n"
     ]
    }
   ],
   "source": [
    "print(W*5+b)\n",
    "print(W*2.5+b)"
   ]
  },
  {
   "cell_type": "code",
   "execution_count": 20,
   "id": "56568c79",
   "metadata": {},
   "outputs": [
    {
     "name": "stdout",
     "output_type": "stream",
     "text": [
      "-3.000 l   74.66667\n",
      "-2.429 l   54.85714\n",
      "-1.857 l   38.09524\n",
      "-1.286 l   24.38095\n",
      "-0.714 l   13.71429\n",
      "-0.143 l    6.09524\n",
      " 0.429 l    1.52381\n",
      " 1.000 l    0.00000\n",
      " 1.571 l    1.52381\n",
      " 2.143 l    6.09524\n",
      " 2.714 l   13.71429\n",
      " 3.286 l   24.38095\n",
      " 3.857 l   38.09524\n",
      " 4.429 l   54.85714\n",
      " 5.000 l   74.66667\n"
     ]
    }
   ],
   "source": [
    "import numpy as np\n",
    "X = np.array([1,2,3])\n",
    "Y = np.array([1,2,3])\n",
    "def cost_func(W,X,Y):\n",
    "    hypothesis = X*W\n",
    "    return tf.reduce_mean(tf.square(hypothesis-Y))\n",
    "W_values = np.linspace(-3,5,num=15)\n",
    "cost_values = []\n",
    "for feed_W in W_values:\n",
    "    curr_cost = cost_func(feed_W, X, Y)\n",
    "    cost_values.append(curr_cost)\n",
    "    print(\"{:6.3f} l {:10.5f}\".format(feed_W, curr_cost))"
   ]
  },
  {
   "cell_type": "code",
   "execution_count": 32,
   "id": "b73e6fda",
   "metadata": {},
   "outputs": [
    {
     "name": "stdout",
     "output_type": "stream",
     "text": [
      "    0l18829.7812l 47.348293\n",
      "   10l 3959.8606l 22.254507\n",
      "   20l  832.7498l 10.746942\n",
      "   30l  175.1254l  5.469775\n",
      "   40l   36.8285l  3.049760\n",
      "   50l    7.7449l  1.939983\n",
      "   60l    1.6287l  1.431060\n",
      "   70l    0.3425l  1.197676\n",
      "   80l    0.0720l  1.090651\n",
      "   90l    0.0151l  1.041571\n",
      "  100l    0.0032l  1.019064\n",
      "  110l    0.0007l  1.008742\n",
      "  120l    0.0001l  1.004009\n",
      "  130l    0.0000l  1.001839\n",
      "  140l    0.0000l  1.000843\n",
      "  150l    0.0000l  1.000387\n",
      "  160l    0.0000l  1.000178\n",
      "  170l    0.0000l  1.000081\n",
      "  180l    0.0000l  1.000037\n",
      "  190l    0.0000l  1.000017\n",
      "  200l    0.0000l  1.000008\n",
      "  210l    0.0000l  1.000004\n",
      "  220l    0.0000l  1.000002\n",
      "  230l    0.0000l  1.000001\n",
      "  240l    0.0000l  1.000001\n",
      "  250l    0.0000l  1.000001\n",
      "  260l    0.0000l  1.000001\n",
      "  270l    0.0000l  1.000001\n",
      "  280l    0.0000l  1.000001\n",
      "  290l    0.0000l  1.000001\n"
     ]
    }
   ],
   "source": [
    "tf.random.set_seed(0) #처음 실행 시 랜덤으로 나오는 W 고정\n",
    "X = [1., 2., 3., 4.]\n",
    "Y = [1., 2., 3., 4.]\n",
    "W = tf.Variable(tf.random.normal([1], -100., 100.)) #W의차원, 범위\n",
    "for step in range(300):\n",
    "    hypothesis = W*X\n",
    "    cost = tf.reduce_mean(tf.square(hypothesis-Y)) #차원축소\n",
    "    alpha = 0.01\n",
    "    gradient = tf.reduce_mean(tf.multiply(tf.multiply(W,X) - Y, X))\n",
    "    descent = W - tf.multiply(alpha, gradient)\n",
    "    W.assign(descent)\n",
    "    if step%10 == 0:\n",
    "        print(\"{:5}l{:10.4f}l{:10.6f}\".format(step, cost.numpy(), W.numpy()[0]))"
   ]
  },
  {
   "cell_type": "code",
   "execution_count": 38,
   "id": "4f4c8e11",
   "metadata": {},
   "outputs": [
    {
     "name": "stdout",
     "output_type": "stream",
     "text": [
      "    0l 1798.2894\n",
      "  100l    2.2888\n",
      "  200l    2.0632\n",
      "  300l    2.0587\n",
      "  400l    2.0542\n",
      "  500l    2.0498\n",
      "  600l    2.0453\n",
      "  700l    2.0409\n",
      "  800l    2.0366\n",
      "  900l    2.0322\n",
      " 1000l    2.0279\n",
      " 1100l    2.0236\n",
      " 1200l    2.0194\n",
      " 1300l    2.0151\n",
      " 1400l    2.0108\n",
      " 1500l    2.0066\n",
      " 1600l    2.0024\n",
      " 1700l    1.9982\n",
      " 1800l    1.9940\n",
      " 1900l    1.9899\n",
      " 2000l    1.9857\n"
     ]
    }
   ],
   "source": [
    "tf.random.set_seed(0) #처음 실행 시 랜덤으로 나오는 W 고정 #multivariable linear regresstion\n",
    "data = np.array([\n",
    "    [73., 80., 75., 152.],\n",
    "    [93., 88., 93., 185.],\n",
    "    [89., 91., 90., 180.],\n",
    "    [96., 98., 100., 196.],\n",
    "    [73., 66., 70., 142.]\n",
    "], dtype=np.float32)\n",
    "X = data[:, :-1]\n",
    "Y = data[:,[-1]]\n",
    "W = tf.Variable(tf.random.normal([3,1])) #W의차원\n",
    "b = tf.Variable(tf.random.normal([1]))\n",
    "def predict(X):\n",
    "    return tf.matmul(X, W) + b #XW+b\n",
    "n_epochs = 2000\n",
    "learning_rate = 0.000001\n",
    "for i in range(n_epochs+1):\n",
    "    with tf.GradientTape() as tape:\n",
    "        cost = tf.reduce_mean(tf.square(predict(X)-Y))\n",
    "    W_grad, b_grad = tape.gradient(cost, [W, b])\n",
    "    W.assign_sub(learning_rate*W_grad)\n",
    "    b.assign_sub(learning_rate*b_grad)            \n",
    "    if i%100 == 0:\n",
    "        print(\"{:5}l{:10.4f}\".format(i, cost.numpy()))"
   ]
  },
  {
   "cell_type": "code",
   "execution_count": 43,
   "id": "7e968549",
   "metadata": {},
   "outputs": [
    {
     "data": {
      "image/png": "[encoded data removed]",
      "text/plain": [
       "<Figure size 640x480 with 1 Axes>"
      ]
     },
     "metadata": {},
     "output_type": "display_data"
    }
   ],
   "source": [
    "import matplotlib.pyplot as plt #visualization\n",
    "x_train = [[1.,2.],[2.,3.],[3.,1.],[4.,3.],[5.,3.],[6.,2.]]\n",
    "y_train = [[0.],[0.],[0.],[1.],[1.],[1.]]\n",
    "x_test = [[5.,2.]]\n",
    "y_test = [[1.]]\n",
    "x1 = [x[0] for x in x_train]\n",
    "x2 = [x[1] for x in x_train]\n",
    "colors = [int(y[0]%3) for y in y_train]\n",
    "plt.scatter(x1,x2,c=colors, marker='^')\n",
    "plt.scatter(x_test[0][0], x_test[0][1], c='red')\n",
    "plt.xlabel(\"x1\")\n",
    "plt.ylabel(\"x2\")\n",
    "plt.show()"
   ]
  },
  {
   "cell_type": "code",
   "execution_count": 49,
   "id": "133b846b",
   "metadata": {},
   "outputs": [
    {
     "name": "stdout",
     "output_type": "stream",
     "text": [
      "Iter: 0, Loss: 0.6931\n",
      "Iter: 100, Loss: 0.5781\n",
      "Iter: 200, Loss: 0.5352\n",
      "Iter: 300, Loss: 0.5056\n",
      "Iter: 400, Loss: 0.4840\n",
      "Iter: 500, Loss: 0.4673\n",
      "Iter: 600, Loss: 0.4537\n",
      "Iter: 700, Loss: 0.4421\n",
      "Iter: 800, Loss: 0.4320\n",
      "Iter: 900, Loss: 0.4229\n",
      "Iter: 1000, Loss: 0.4145\n",
      "Test Result = [[1]]\n",
      "Testset Accuracy: 1.0000\n"
     ]
    }
   ],
   "source": [
    "dataset = tf.data.Dataset.from_tensor_slices((x_train, y_train)) #Binary classification with logistic regresstion (discrete)\n",
    "W = tf.Variable(tf.zeros([2,1]), name = 'weight')\n",
    "b = tf.Variable(tf.zeros([1]), name = 'bias')\n",
    "\n",
    "def logistic_regression(features): #sigmoid 함수 (0부터 1까지)\n",
    "    hypothesis = tf.divide(1., 1+tf.exp(-(tf.matmul(features,W)+b)))\n",
    "    return hypothesis\n",
    "def loss_fn(hypothesis, labels): #cost (for convex)\n",
    "    cost = -tf.reduce_mean(labels*tf.math.log(hypothesis)+(1-labels)*tf.math.log(1-hypothesis))\n",
    "    return cost\n",
    "optimizer = tf.keras.optimizers.SGD(learning_rate = 0.01)\n",
    "def accuracy_fn(hypothesis, labels):\n",
    "    predicted = tf.cast(hypothesis > 0.5, dtype=tf.float32) #True면 1, False면 0 반환\n",
    "    accuracy = tf.reduce_mean(tf.cast(tf.equal(predicted, labels), dtype=tf.int32))\n",
    "    return accuracy\n",
    "def grad(features, labels): #grad 구하기\n",
    "    with tf.GradientTape() as tape:\n",
    "        hypothesis = logistic_regression(features)\n",
    "        loss_value = loss_fn(hypothesis, labels)\n",
    "    return tape.gradient(loss_value, [W,b])\n",
    "EPOCHS = 1001\n",
    "for step in range(EPOCHS):\n",
    "        for features, labels in iter(dataset.batch(len(x_train))): #실제 크기 6, 한번\n",
    "            hypothesis = logistic_regression(features)\n",
    "            grads = grad(features, labels)\n",
    "            optimizer.apply_gradients(grads_and_vars=zip(grads,[W,b])) #변수조정\n",
    "            if step %100 == 0:\n",
    "                print(\"Iter: {}, Loss: {:.4f}\".format(step, loss_fn(hypothesis, labels)))\n",
    "test_acc = accuracy_fn(logistic_regression(x_test),y_test)\n",
    "print(\"Test Result = {}\".format(tf.cast(logistic_regression(x_test) > 0.5, dtype=tf.int32)))\n",
    "print(\"Testset Accuracy: {:.4f}\".format(test_acc))"
   ]
  },
  {
   "cell_type": "code",
   "execution_count": 75,
   "id": "e68484d2",
   "metadata": {},
   "outputs": [
    {
     "name": "stdout",
     "output_type": "stream",
     "text": [
      "(8, 4)\n",
      "(8, 3)\n",
      "<tf.Variable 'weight:0' shape=(4, 3) dtype=float32, numpy=\n",
      "array([[ 0.7706481 ,  0.37335402, -0.05576323],\n",
      "       [ 0.00358377, -0.5898363 ,  1.5702795 ],\n",
      "       [ 0.2460895 , -0.09918973,  1.4418385 ],\n",
      "       [ 0.3200988 ,  0.526784  , -0.7703731 ]], dtype=float32)> <tf.Variable 'bias:0' shape=(3,) dtype=float32, numpy=array([-1.3080608 , -0.13253094,  0.5513761 ], dtype=float32)>\n"
     ]
    }
   ],
   "source": [
    "tf.random.set_seed(777)  # for reproducibility #Multiple classification with softmax\n",
    "x_data = [[1, 2, 1, 1],\n",
    "          [2, 1, 3, 2],\n",
    "          [3, 1, 3, 4],\n",
    "          [4, 1, 5, 5],\n",
    "          [1, 7, 5, 5],\n",
    "          [1, 2, 5, 6],\n",
    "          [1, 6, 6, 6],\n",
    "          [1, 7, 7, 7]]\n",
    "y_data = [[0, 0, 1], #one-hot\n",
    "          [0, 0, 1],\n",
    "          [0, 0, 1],\n",
    "          [0, 1, 0],\n",
    "          [0, 1, 0],\n",
    "          [0, 1, 0],\n",
    "          [1, 0, 0],\n",
    "          [1, 0, 0]] \n",
    "#convert into numpy and float format\n",
    "x_data = np.asarray(x_data, dtype=np.float32)\n",
    "y_data = np.asarray(y_data, dtype=np.float32)\n",
    "nb_classes = 3 #class의 개수입니다.\n",
    "print(x_data.shape)\n",
    "print(y_data.shape)\n",
    "#Weight and bias setting\n",
    "W = tf.Variable(tf.random.normal((4, nb_classes)), name='weight')\n",
    "b = tf.Variable(tf.random.normal((nb_classes,)), name='bias')\n",
    "variables = [W, b]\n",
    "print(W,b)"
   ]
  },
  {
   "cell_type": "code",
   "execution_count": 76,
   "id": "6246b22b",
   "metadata": {},
   "outputs": [
    {
     "name": "stdout",
     "output_type": "stream",
     "text": [
      "Loss at epoch 1: 2.849417\n",
      "Loss at epoch 100: 0.684151\n",
      "Loss at epoch 200: 0.613813\n",
      "Loss at epoch 300: 0.558204\n",
      "Loss at epoch 400: 0.508306\n",
      "Loss at epoch 500: 0.461059\n",
      "Loss at epoch 600: 0.415072\n",
      "Loss at epoch 700: 0.369636\n",
      "Loss at epoch 800: 0.324533\n",
      "Loss at epoch 900: 0.280720\n",
      "Loss at epoch 1000: 0.246752\n",
      "Loss at epoch 1100: 0.232798\n",
      "Loss at epoch 1200: 0.221645\n",
      "Loss at epoch 1300: 0.211476\n",
      "Loss at epoch 1400: 0.202164\n",
      "Loss at epoch 1500: 0.193606\n",
      "Loss at epoch 1600: 0.185714\n",
      "Loss at epoch 1700: 0.178415\n",
      "Loss at epoch 1800: 0.171645\n",
      "Loss at epoch 1900: 0.165351\n",
      "Loss at epoch 2000: 0.159483\n"
     ]
    }
   ],
   "source": [
    "def hypothesis(X): #확률값으로 변환\n",
    "    return tf.nn.softmax(tf.matmul(X, W) + b)\n",
    "def cost_fn(X, Y): \n",
    "    logits = hypothesis(X)\n",
    "    cost = -tf.reduce_sum(Y * tf.math.log(logits), axis=1) #cross entropy 산출\n",
    "    cost_mean = tf.reduce_mean(cost)\n",
    "    return cost_mean\n",
    "def grad_fn(X, Y):\n",
    "    with tf.GradientTape() as tape:\n",
    "        loss = cost_fn(X, Y)\n",
    "        grads = tape.gradient(loss, variables)\n",
    "        return grads\n",
    "def fit(X, Y, epochs=2000, verbose=100):\n",
    "    optimizer =  tf.keras.optimizers.SGD(learning_rate=0.1)\n",
    "    for i in range(epochs):\n",
    "        grads = grad_fn(X, Y)\n",
    "        optimizer.apply_gradients(zip(grads, variables))\n",
    "        if (i==0) | ((i+1)%verbose==0):\n",
    "            print('Loss at epoch %d: %f' %(i+1, cost_fn(X, Y).numpy()))       \n",
    "fit(x_data, y_data)"
   ]
  },
  {
   "cell_type": "code",
   "execution_count": 77,
   "id": "9c88a3c2",
   "metadata": {},
   "outputs": [
    {
     "name": "stdout",
     "output_type": "stream",
     "text": [
      "tf.Tensor([[0.00112886 0.08154673 0.9173244 ]], shape=(1, 3), dtype=float32)\n",
      "tf.Tensor([2], shape=(1,), dtype=int64)\n",
      "tf.Tensor(\n",
      "[[2.1975952e-06 1.2331170e-03 9.9876475e-01]\n",
      " [1.1288594e-03 8.1546687e-02 9.1732442e-01]\n",
      " [2.2205539e-07 1.6418624e-01 8.3581358e-01]\n",
      " [6.3921816e-06 8.5045439e-01 1.4953922e-01]\n",
      " [2.6150808e-01 7.2644734e-01 1.2044534e-02]\n",
      " [1.3783246e-01 8.6214006e-01 2.7417480e-05]\n",
      " [7.4242145e-01 2.5754160e-01 3.6978410e-05]\n",
      " [9.2197549e-01 7.8023903e-02 6.0005692e-07]], shape=(8, 3), dtype=float32)\n",
      "tf.Tensor([2 2 2 1 1 1 0 0], shape=(8,), dtype=int64)\n",
      "tf.Tensor([2 2 2 1 1 1 0 0], shape=(8,), dtype=int64)\n"
     ]
    }
   ],
   "source": [
    "sample_data = [[2,1,3,2]] # answer_label [[0,0,1]] 테스트\n",
    "sample_data = np.asarray(sample_data, dtype=np.float32)\n",
    "a = hypothesis(sample_data)\n",
    "print(a)\n",
    "print(tf.argmax(a, 1)) #index: 2 (최대값 인덱스 반환)\n",
    "\n",
    "b = hypothesis(x_data)\n",
    "print(b)\n",
    "print(tf.argmax(b, 1))\n",
    "print(tf.argmax(y_data, 1)) # matches with y_data 확인"
   ]
  },
  {
   "cell_type": "code",
   "execution_count": 81,
   "id": "3a0355b6",
   "metadata": {},
   "outputs": [
    {
     "name": "stdout",
     "output_type": "stream",
     "text": [
      "(101, 16) (101, 7)\n",
      "Steps: 1 Loss: 3.635028839111328, Acc: 0.1683168262243271\n",
      "Steps: 100 Loss: 0.5194158554077148, Acc: 0.7920792102813721\n",
      "Steps: 200 Loss: 0.31850093603134155, Acc: 0.9108911156654358\n",
      "Steps: 300 Loss: 0.23534876108169556, Acc: 0.9405940771102905\n",
      "Steps: 400 Loss: 0.18872138857841492, Acc: 0.9504950642585754\n",
      "Steps: 500 Loss: 0.1584603488445282, Acc: 0.9504950642585754\n",
      "Steps: 600 Loss: 0.13703754544258118, Acc: 0.9900990128517151\n",
      "Steps: 700 Loss: 0.12098980695009232, Acc: 0.9900990128517151\n",
      "Steps: 800 Loss: 0.10847963392734528, Acc: 1.0\n",
      "Steps: 900 Loss: 0.09843039512634277, Acc: 1.0\n",
      "Steps: 1000 Loss: 0.09016558527946472, Acc: 1.0\n"
     ]
    }
   ],
   "source": [
    "tf.random.set_seed(777)\n",
    "xy = np.loadtxt('data-04-zoo.csv', delimiter=',', dtype=np.float32) #csv data load\n",
    "x_data = xy[:, 0:-1] #vectorization\n",
    "y_data = xy[:, -1]\n",
    "nb_classes = 7  # 0 ~ 6\n",
    "# Make Y data as onehot shape\n",
    "Y_one_hot = tf.one_hot(y_data.astype(np.int32), nb_classes)\n",
    "print(x_data.shape, Y_one_hot.shape)\n",
    "#Weight and bias setting\n",
    "W = tf.Variable(tf.random.normal((16, nb_classes)), name='weight')\n",
    "b = tf.Variable(tf.random.normal((nb_classes,)), name='bias') #', '은 알아서 넣어짐\n",
    "variables = [W, b]\n",
    "def logit_fn(X): #선형변환 logit\n",
    "    return tf.matmul(X, W) + b\n",
    "def hypothesis(X):\n",
    "    return tf.nn.softmax(logit_fn(X))\n",
    "def cost_fn(X, Y):\n",
    "    logits = logit_fn(X)\n",
    "    cost_i = tf.keras.losses.categorical_crossentropy(y_true=Y, y_pred=logits, \n",
    "                                                      from_logits=True)    #logit을 이용해 바로 cost vector 구하기\n",
    "    cost = tf.reduce_mean(cost_i)    \n",
    "    return cost\n",
    "def grad_fn(X, Y):\n",
    "    with tf.GradientTape() as tape:\n",
    "        loss = cost_fn(X, Y)\n",
    "        grads = tape.gradient(loss, variables)\n",
    "        return grads\n",
    "def prediction(X, Y):\n",
    "    pred = tf.argmax(hypothesis(X), 1) #예측레이블\n",
    "    correct_prediction = tf.equal(pred, tf.argmax(Y, 1))\n",
    "    accuracy = tf.reduce_mean(tf.cast(correct_prediction, tf.float32))\n",
    "    return accuracy\n",
    "def fit(X, Y, epochs=1000, verbose=100):\n",
    "    optimizer =  tf.keras.optimizers.SGD(learning_rate=0.1)\n",
    "    for i in range(epochs):\n",
    "        grads = grad_fn(X, Y)\n",
    "        optimizer.apply_gradients(zip(grads, variables))\n",
    "        if (i==0) | ((i+1)%verbose==0):\n",
    "#             print('Loss at epoch %d: %f' %(i+1, cost_fn(X, Y).numpy()))\n",
    "            acc = prediction(X, Y).numpy()\n",
    "            loss = cost_fn(X, Y).numpy() \n",
    "            print('Steps: {} Loss: {}, Acc: {}'.format(i+1, loss, acc))\n",
    "fit(x_data, Y_one_hot)"
   ]
  },
  {
   "cell_type": "code",
   "execution_count": null,
   "id": "9bc40089",
   "metadata": {},
   "outputs": [],
   "source": []
  }
 ],
 "metadata": {
  "kernelspec": {
   "display_name": "Python 3 (ipykernel)",
   "language": "python",
   "name": "python3"
  },
  "language_info": {
   "codemirror_mode": {
    "name": "ipython",
    "version": 3
   },
   "file_extension": ".py",
   "mimetype": "text/x-python",
   "name": "python",
   "nbconvert_exporter": "python",
   "pygments_lexer": "ipython3",
   "version": "3.7.13"
  }
 },
 "nbformat": 4,
 "nbformat_minor": 5
}
